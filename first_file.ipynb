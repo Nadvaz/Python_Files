{
 "cells": [
  {
   "cell_type": "code",
   "execution_count": 1,
   "id": "46957a85",
   "metadata": {},
   "outputs": [],
   "source": [
    "students=['nadeem','vazida','Sariyah','Sulaiman']"
   ]
  },
  {
   "cell_type": "code",
   "execution_count": 2,
   "id": "a95d0576",
   "metadata": {},
   "outputs": [
    {
     "name": "stdout",
     "output_type": "stream",
     "text": [
      "['nadeem', 'vazida', 'Sariyah', 'Sulaiman']\n"
     ]
    }
   ],
   "source": [
    "print(students)"
   ]
  },
  {
   "cell_type": "code",
   "execution_count": 3,
   "id": "d6b8e18d",
   "metadata": {},
   "outputs": [
    {
     "ename": "SyntaxError",
     "evalue": "invalid syntax (1590627314.py, line 1)",
     "output_type": "error",
     "traceback": [
      "\u001b[1;36m  Cell \u001b[1;32mIn[3], line 1\u001b[1;36m\u001b[0m\n\u001b[1;33m    message=f 'Hello',{students[0]}\u001b[0m\n\u001b[1;37m              ^\u001b[0m\n\u001b[1;31mSyntaxError\u001b[0m\u001b[1;31m:\u001b[0m invalid syntax\n"
     ]
    }
   ],
   "source": [
    "message=f 'Hello',{students[0]}"
   ]
  },
  {
   "cell_type": "code",
   "execution_count": 22,
   "id": "eabe82d1",
   "metadata": {},
   "outputs": [],
   "source": [
    "message=f'Hello,{students[0]}'"
   ]
  },
  {
   "cell_type": "code",
   "execution_count": 23,
   "id": "a1dfbce8",
   "metadata": {},
   "outputs": [
    {
     "name": "stdout",
     "output_type": "stream",
     "text": [
      "Hello,nadeem\n"
     ]
    }
   ],
   "source": [
    "print(message)"
   ]
  },
  {
   "cell_type": "code",
   "execution_count": 21,
   "id": "660b4004",
   "metadata": {},
   "outputs": [],
   "source": [
    "message=f\"hello,{students[0]}\""
   ]
  },
  {
   "cell_type": "code",
   "execution_count": 7,
   "id": "0cb8f97d",
   "metadata": {},
   "outputs": [
    {
     "name": "stdout",
     "output_type": "stream",
     "text": [
      "hello,nadeem\n"
     ]
    }
   ],
   "source": [
    "print(message)"
   ]
  },
  {
   "cell_type": "code",
   "execution_count": 11,
   "id": "606c6642",
   "metadata": {},
   "outputs": [],
   "source": [
    "message=f\"happy family,{students[2]}\""
   ]
  },
  {
   "cell_type": "code",
   "execution_count": 12,
   "id": "47361aa6",
   "metadata": {},
   "outputs": [
    {
     "name": "stdout",
     "output_type": "stream",
     "text": [
      "happy family,Sariyah\n"
     ]
    }
   ],
   "source": [
    "print(message)"
   ]
  },
  {
   "cell_type": "code",
   "execution_count": 14,
   "id": "60dcc116",
   "metadata": {},
   "outputs": [
    {
     "name": "stdout",
     "output_type": "stream",
     "text": [
      "nadeem\n",
      "vazida\n",
      "Sariyah\n",
      "Sulaiman\n"
     ]
    }
   ],
   "source": [
    "for tempvar in students:\n",
    "    print(tempvar)"
   ]
  },
  {
   "cell_type": "code",
   "execution_count": 17,
   "id": "bd0dd654",
   "metadata": {},
   "outputs": [
    {
     "name": "stdout",
     "output_type": "stream",
     "text": [
      "happy new year,nadeem\n",
      "happy new year,vazida\n",
      "happy new year,Sariyah\n",
      "happy new year,Sulaiman\n"
     ]
    }
   ],
   "source": [
    "for x in students:\n",
    "    print(f\"happy new year,{x}\")"
   ]
  },
  {
   "cell_type": "code",
   "execution_count": 18,
   "id": "26cadbbc",
   "metadata": {},
   "outputs": [
    {
     "name": "stdout",
     "output_type": "stream",
     "text": [
      "nadeem\n",
      "vazida\n",
      "Sariyah\n",
      "Sulaiman\n"
     ]
    }
   ],
   "source": [
    "for i in students:\n",
    "    print(i)"
   ]
  },
  {
   "cell_type": "code",
   "execution_count": null,
   "id": "7de8daeb",
   "metadata": {},
   "outputs": [],
   "source": []
  }
 ],
 "metadata": {
  "kernelspec": {
   "display_name": "Python 3 (ipykernel)",
   "language": "python",
   "name": "python3"
  },
  "language_info": {
   "codemirror_mode": {
    "name": "ipython",
    "version": 3
   },
   "file_extension": ".py",
   "mimetype": "text/x-python",
   "name": "python",
   "nbconvert_exporter": "python",
   "pygments_lexer": "ipython3",
   "version": "3.11.5"
  }
 },
 "nbformat": 4,
 "nbformat_minor": 5
}
